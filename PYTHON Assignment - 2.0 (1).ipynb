{
 "cells": [
  {
   "cell_type": "raw",
   "metadata": {},
   "source": [
    "Problem Statement 1. Create the below pattern using nested for loop in Python. \n",
    "* \n",
    "* * \n",
    "* * * \n",
    "* * * * \n",
    "* * * * * \n",
    "* * * * \n",
    "* * * \n",
    "* * \n",
    "* \n"
   ]
  },
  {
   "cell_type": "code",
   "execution_count": 1,
   "metadata": {},
   "outputs": [
    {
     "name": "stdout",
     "output_type": "stream",
     "text": [
      "* \n",
      "* * \n",
      "* * * \n",
      "* * * * \n",
      "* * * * * \n",
      "* * * * \n",
      "* * * \n",
      "* * \n",
      "* \n"
     ]
    }
   ],
   "source": [
    "for i in range(4):\n",
    "    for j in range(i+1):\n",
    "        print(\"* \" ,end = \"\" )\n",
    "    print()\n",
    "for i in range(5):\n",
    "    for y in range(5-i):\n",
    "        print(\"* \" ,end = \"\" )\n",
    "    print()\n",
    "      "
   ]
  },
  {
   "cell_type": "raw",
   "metadata": {},
   "source": [
    "Problem Statement 2. Write a Python program to reverse a word after accepting the input from the user.\n",
    "\n",
    "Sample Output: \n",
    "\n",
    "Input word: ineuron \n",
    "Output: norueni\n"
   ]
  },
  {
   "cell_type": "code",
   "execution_count": 12,
   "metadata": {},
   "outputs": [
    {
     "name": "stdout",
     "output_type": "stream",
     "text": [
      "ineuron\n",
      "norueni\n"
     ]
    }
   ],
   "source": [
    "ineuron = input()\n",
    "print (ineuron[::-1])"
   ]
  }
 ],
 "metadata": {
  "kernelspec": {
   "display_name": "Python 3",
   "language": "python",
   "name": "python3"
  },
  "language_info": {
   "codemirror_mode": {
    "name": "ipython",
    "version": 3
   },
   "file_extension": ".py",
   "mimetype": "text/x-python",
   "name": "python",
   "nbconvert_exporter": "python",
   "pygments_lexer": "ipython3",
   "version": "3.7.4"
  }
 },
 "nbformat": 4,
 "nbformat_minor": 2
}
